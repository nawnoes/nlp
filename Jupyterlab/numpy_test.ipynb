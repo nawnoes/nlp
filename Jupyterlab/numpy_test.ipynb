{
 "cells": [
  {
   "cell_type": "code",
   "execution_count": 13,
   "metadata": {},
   "outputs": [],
   "source": [
    "import torch\n",
    "import torch.nn as nn\n",
    "import torch.optim as optim\n",
    "from torch.autograd import Variable"
   ]
  },
  {
   "cell_type": "code",
   "execution_count": 14,
   "metadata": {},
   "outputs": [],
   "source": [
    "import numpy as np\n",
    "import matplotlib.pyplot as plt"
   ]
  },
  {
   "cell_type": "markdown",
   "metadata": {},
   "source": [
    "# numpy.triu\n",
    "**numpy.triu(m, k=0)[source]**\n",
    "Upper triangle of an array.\n",
    "\n",
    "k번째 부터 순서대로 0을 채운 행렬을 리턴  \n",
    "Return a copy of a matrix with the elements below the k-th diagonal zeroed.\n",
    "\n",
    "Please refer to the documentation for tril for further details.\n",
    "\n",
    "See also\n",
    "tril\n",
    "lower triangle of an array"
   ]
  },
  {
   "cell_type": "code",
   "execution_count": 15,
   "metadata": {},
   "outputs": [
    {
     "data": {
      "text/plain": [
       "array([[ 1,  1,  1,  2,  3],\n",
       "       [ 2,  2,  4,  5,  6],\n",
       "       [ 3,  3,  7,  8,  9],\n",
       "       [ 0,  4, 10, 11, 12]])"
      ]
     },
     "execution_count": 15,
     "metadata": {},
     "output_type": "execute_result"
    }
   ],
   "source": [
    "np.triu([[1,1,1,2,3],[2,2,4,5,6],[3,3,7,8,9],[4,4,10,11,12]], -2)"
   ]
  },
  {
   "cell_type": "code",
   "execution_count": null,
   "metadata": {},
   "outputs": [],
   "source": []
  }
 ],
 "metadata": {
  "kernelspec": {
   "display_name": "Python 3",
   "language": "python",
   "name": "python3"
  },
  "language_info": {
   "codemirror_mode": {
    "name": "ipython",
    "version": 3
   },
   "file_extension": ".py",
   "mimetype": "text/x-python",
   "name": "python",
   "nbconvert_exporter": "python",
   "pygments_lexer": "ipython3",
   "version": "3.7.4"
  }
 },
 "nbformat": 4,
 "nbformat_minor": 4
}
